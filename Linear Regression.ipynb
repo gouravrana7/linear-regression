{
 "cells": [
  {
   "cell_type": "code",
   "execution_count": 27,
   "id": "1483d9ce",
   "metadata": {},
   "outputs": [
    {
     "name": "stdout",
     "output_type": "stream",
     "text": [
      "(237, 4)\n"
     ]
    },
    {
     "data": {
      "text/html": [
       "<div>\n",
       "<style scoped>\n",
       "    .dataframe tbody tr th:only-of-type {\n",
       "        vertical-align: middle;\n",
       "    }\n",
       "\n",
       "    .dataframe tbody tr th {\n",
       "        vertical-align: top;\n",
       "    }\n",
       "\n",
       "    .dataframe thead th {\n",
       "        text-align: right;\n",
       "    }\n",
       "</style>\n",
       "<table border=\"1\" class=\"dataframe\">\n",
       "  <thead>\n",
       "    <tr style=\"text-align: right;\">\n",
       "      <th></th>\n",
       "      <th>Gender</th>\n",
       "      <th>Age Range</th>\n",
       "      <th>Head Size(cm^3)</th>\n",
       "      <th>Brain Weight(grams)</th>\n",
       "    </tr>\n",
       "  </thead>\n",
       "  <tbody>\n",
       "    <tr>\n",
       "      <th>0</th>\n",
       "      <td>1</td>\n",
       "      <td>1</td>\n",
       "      <td>4512</td>\n",
       "      <td>1530</td>\n",
       "    </tr>\n",
       "    <tr>\n",
       "      <th>1</th>\n",
       "      <td>1</td>\n",
       "      <td>1</td>\n",
       "      <td>3738</td>\n",
       "      <td>1297</td>\n",
       "    </tr>\n",
       "    <tr>\n",
       "      <th>2</th>\n",
       "      <td>1</td>\n",
       "      <td>1</td>\n",
       "      <td>4261</td>\n",
       "      <td>1335</td>\n",
       "    </tr>\n",
       "    <tr>\n",
       "      <th>3</th>\n",
       "      <td>1</td>\n",
       "      <td>1</td>\n",
       "      <td>3777</td>\n",
       "      <td>1282</td>\n",
       "    </tr>\n",
       "    <tr>\n",
       "      <th>4</th>\n",
       "      <td>1</td>\n",
       "      <td>1</td>\n",
       "      <td>4177</td>\n",
       "      <td>1590</td>\n",
       "    </tr>\n",
       "  </tbody>\n",
       "</table>\n",
       "</div>"
      ],
      "text/plain": [
       "   Gender  Age Range  Head Size(cm^3)  Brain Weight(grams)\n",
       "0       1          1             4512                 1530\n",
       "1       1          1             3738                 1297\n",
       "2       1          1             4261                 1335\n",
       "3       1          1             3777                 1282\n",
       "4       1          1             4177                 1590"
      ]
     },
     "execution_count": 27,
     "metadata": {},
     "output_type": "execute_result"
    }
   ],
   "source": [
    "import numpy as np\n",
    "import pandas as pd\n",
    "import math\n",
    "import operator\n",
    "import matplotlib.pyplot as plt\n",
    "%matplotlib inline\n",
    "\n",
    "#Reading Data\n",
    "data=pd.read_csv('headbrain.csv')\n",
    "print(data.shape)\n",
    "data.head()\n",
    "\n"
   ]
  },
  {
   "cell_type": "code",
   "execution_count": 19,
   "id": "eaece9f3",
   "metadata": {},
   "outputs": [
    {
     "name": "stdout",
     "output_type": "stream",
     "text": [
      "m = 0.26342933948939945 \n",
      "c = 325.57342104944223\n"
     ]
    }
   ],
   "source": [
    "# collecting x & y\n",
    "X = data['Head Size(cm^3)'].values\n",
    "Y = data['Brain Weight(grams)'].values\n",
    "\n",
    "# calculate mean of x & y using an inbuilt numpy method mean()\n",
    "mean_x = np.mean(X)\n",
    "mean_y = np.mean(Y)\n",
    "# total no.of input values\n",
    "m = len(X)\n",
    "\n",
    "# using the formula to calculate m & c\n",
    "numer = 0\n",
    "denom = 0\n",
    "for i in range(m):\n",
    "  numer += (X[i] - mean_x) * (Y[i] - mean_y)\n",
    "  denom += (X[i] - mean_x) ** 2\n",
    "m = numer / denom\n",
    "c = mean_y - (m * mean_x)\n",
    "\n",
    "print (f'm = {m} \\nc = {c}')"
   ]
  },
  {
   "cell_type": "code",
   "execution_count": 25,
   "id": "22b7a8e9",
   "metadata": {},
   "outputs": [
    {
     "data": {
      "image/png": "[encoded data removed]",
      "text/plain": [
       "<Figure size 432x288 with 1 Axes>"
      ]
     },
     "metadata": {
      "needs_background": "light"
     },
     "output_type": "display_data"
    }
   ],
   "source": [
    "# plotting values and regression line\n",
    "max_x = np.max(X) + 100\n",
    "min_x = np.min(Y) - 100\n",
    "\n",
    "# calculating line values x and y\n",
    "x = np.linspace (min_x, max_x, 100)\n",
    "y = c + m * x\n",
    "\n",
    "plt.plot(x, y, color='#58b970', label='Regression Line')\n",
    "plt.scatter(X, Y, c='#ef5423', label='data points')\n",
    "\n",
    "plt.xlabel('Head Size in cm')\n",
    "plt.ylabel('Brain Weight in grams')\n",
    "plt.legend()\n",
    "plt.show()"
   ]
  },
  {
   "cell_type": "code",
   "execution_count": 36,
   "id": "77236868",
   "metadata": {
    "scrolled": true
   },
   "outputs": [
    {
     "name": "stdout",
     "output_type": "stream",
     "text": [
      "0.6393117199570003\n"
     ]
    }
   ],
   "source": [
    "# calculating R-squared value for measuring goodness of our model. \n",
    "\n",
    "ss_t = 0 #total sum of squares\n",
    "ss_r = 0 #total sum of square of residuals\n",
    "\n",
    "for i in range(n): # n represents the no.of input x values\n",
    "  y_pred = c + m * X[i]\n",
    "  ss_t += (Y[i] - mean_y) ** 2\n",
    "  ss_r += (Y[i] - y_pred) ** 2\n",
    "r2 = 1 - (ss_r/ss_t)\n",
    "\n",
    "print(r2)"
   ]
  },
  {
   "cell_type": "code",
   "execution_count": null,
   "id": "03e87794",
   "metadata": {},
   "outputs": [],
   "source": []
  },
  {
   "cell_type": "code",
   "execution_count": null,
   "id": "24940d61",
   "metadata": {},
   "outputs": [],
   "source": []
  }
 ],
 "metadata": {
  "kernelspec": {
   "display_name": "Python 3",
   "language": "python",
   "name": "python3"
  },
  "language_info": {
   "codemirror_mode": {
    "name": "ipython",
    "version": 3
   },
   "file_extension": ".py",
   "mimetype": "text/x-python",
   "name": "python",
   "nbconvert_exporter": "python",
   "pygments_lexer": "ipython3",
   "version": "3.8.8"
  }
 },
 "nbformat": 4,
 "nbformat_minor": 5
}
